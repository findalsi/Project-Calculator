{
 "cells": [
  {
   "cell_type": "markdown",
   "id": "69a4a954",
   "metadata": {},
   "source": [
    "Kankani Pathirannehelage Dalsi Samarathunga"
   ]
  },
  {
   "cell_type": "code",
   "execution_count": 1,
   "id": "dc093570",
   "metadata": {},
   "outputs": [
    {
     "name": "stdout",
     "output_type": "stream",
     "text": [
      "Enter your first number :4\n",
      "Enter your second number :6\n",
      "Enter the operation :A\n",
      "Output of the calculation is : 10.0\n"
     ]
    }
   ],
   "source": [
    "num1=float(input(\"Enter your first number :\"))\n",
    "num2=float(input(\"Enter your second number :\"))\n",
    "operation=input(\"Enter the operation :\")\n",
    "def calculator(num1,num2,opration):\n",
    "\n",
    "    if operation==\"A\":\n",
    "        return num1+num2\n",
    "    elif operation==\"S\":\n",
    "        return num1 -num2\n",
    "    elif operation==\"M\":\n",
    "        return num1*num2\n",
    "    elif operation==\"D\":\n",
    "        return num1/num2\n",
    "    else:\n",
    "        return \"Error in Input\"\n",
    "ans=calculator(num1,num2,operation)\n",
    "print(\"Output of the calculation is :\",ans)"
   ]
  },
  {
   "cell_type": "code",
   "execution_count": null,
   "id": "45a89cb9",
   "metadata": {},
   "outputs": [],
   "source": []
  }
 ],
 "metadata": {
  "kernelspec": {
   "display_name": "Python 3 (ipykernel)",
   "language": "python",
   "name": "python3"
  },
  "language_info": {
   "codemirror_mode": {
    "name": "ipython",
    "version": 3
   },
   "file_extension": ".py",
   "mimetype": "text/x-python",
   "name": "python",
   "nbconvert_exporter": "python",
   "pygments_lexer": "ipython3",
   "version": "3.9.13"
  }
 },
 "nbformat": 4,
 "nbformat_minor": 5
}
